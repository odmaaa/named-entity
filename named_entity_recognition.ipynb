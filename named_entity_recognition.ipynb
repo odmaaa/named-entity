{
 "cells": [
  {
   "cell_type": "code",
   "execution_count": 6,
   "metadata": {},
   "outputs": [
    {
     "name": "stdout",
     "output_type": "stream",
     "text": [
      "{'name': 'Michael Johnson', 'phone': '(555) 234-5678', 'email': 'michael.j@email.com'}\n"
     ]
    }
   ],
   "source": [
    "import re\n",
    "\n",
    "text = \"\"\"\n",
    "Name: Michael Johnson\n",
    "Phone: (555) 234-5678\n",
    "Email: michael.j@email.com\n",
    "\n",
    "Additional Info:\n",
    "Michael works remotely and is available for phone calls during business hours.\"\"\"\n",
    "\n",
    "# Patterns to match\n",
    "name_match = re.search(r\"Name:\\s*(.*)\", text)\n",
    "phone_match = re.search(r\"Phone:\\s*(.*)\", text)\n",
    "email_match = re.search(r\"Email:\\s*(.*)\", text)\n",
    "\n",
    "item = {}\n",
    "\n",
    "# Extract and print the name\n",
    "if name_match:\n",
    "    item['name'] = name_match.group(1).strip()  # Group 1 contains the name\n",
    "    \n",
    "# Extract and print the phone\n",
    "if phone_match:\n",
    "    item['phone'] = phone_match.group(1).strip()  # Group 1 contains the phone\n",
    "\n",
    "# Extract and print the email\n",
    "if email_match:\n",
    "    item['email'] = email_match.group(1).strip()  # Group 1 contains the email\n",
    "\n",
    "print(item)    \n"
   ]
  }
 ],
 "metadata": {
  "kernelspec": {
   "display_name": "Python 3",
   "language": "python",
   "name": "python3"
  },
  "language_info": {
   "codemirror_mode": {
    "name": "ipython",
    "version": 3
   },
   "file_extension": ".py",
   "mimetype": "text/x-python",
   "name": "python",
   "nbconvert_exporter": "python",
   "pygments_lexer": "ipython3",
   "version": "3.11.4"
  }
 },
 "nbformat": 4,
 "nbformat_minor": 2
}
